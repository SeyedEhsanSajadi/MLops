{
  "nbformat": 4,
  "nbformat_minor": 0,
  "metadata": {
    "colab": {
      "provenance": [],
      "authorship_tag": "ABX9TyO8Ycw1mCkvXCpuBk4VCP8T",
      "include_colab_link": true
    },
    "kernelspec": {
      "name": "python3",
      "display_name": "Python 3"
    },
    "language_info": {
      "name": "python"
    }
  },
  "cells": [
    {
      "cell_type": "markdown",
      "metadata": {
        "id": "view-in-github",
        "colab_type": "text"
      },
      "source": [
        "<a href=\"https://colab.research.google.com/github/SeyedEhsanSajadi/MLops/blob/main/02/2.ipynb\" target=\"_parent\"><img src=\"https://colab.research.google.com/assets/colab-badge.svg\" alt=\"Open In Colab\"/></a>"
      ]
    },
    {
      "cell_type": "code",
      "execution_count": 1,
      "metadata": {
        "id": "5_RXRgmaTq4L"
      },
      "outputs": [],
      "source": [
        "!pip install -q mlflow"
      ]
    },
    {
      "cell_type": "code",
      "source": [
        "!mlflow --version"
      ],
      "metadata": {
        "colab": {
          "base_uri": "https://localhost:8080/"
        },
        "id": "K4KoPL-HUOi5",
        "outputId": "49595f46-6259-4c8f-9394-4128a19e9b63"
      },
      "execution_count": 2,
      "outputs": [
        {
          "output_type": "stream",
          "name": "stdout",
          "text": [
            "mlflow, version 2.22.0\n"
          ]
        }
      ]
    },
    {
      "cell_type": "code",
      "source": [
        "!wget https://d37ci6vzurychx.cloudfront.net/trip-data/yellow_tripdata_2023-01.parquet\n",
        "!wget https://d37ci6vzurychx.cloudfront.net/trip-data/yellow_tripdata_2023-02.parquet\n",
        "!wget https://d37ci6vzurychx.cloudfront.net/trip-data/yellow_tripdata_2023-03.parquet\n",
        "\n",
        "!wget https://github.com/DataTalksClub/mlops-zoomcamp/blob/main/cohorts/2025/02-experiment-tracking/homework/preprocess_data.py\n",
        "!wget https://github.com/DataTalksClub/mlops-zoomcamp/blob/main/cohorts/2025/02-experiment-tracking/homework/hpo.py\n",
        "!wget https://github.com/DataTalksClub/mlops-zoomcamp/blob/main/cohorts/2025/02-experiment-tracking/homework/register_model.py\n",
        "!wget https://github.com/DataTalksClub/mlops-zoomcamp/blob/main/cohorts/2025/02-experiment-tracking/homework/train.py"
      ],
      "metadata": {
        "colab": {
          "base_uri": "https://localhost:8080/"
        },
        "collapsed": true,
        "id": "TqKcQKy2UUxe",
        "outputId": "0be6fd89-8fec-4c1a-db53-5637cbb8a01f"
      },
      "execution_count": 3,
      "outputs": [
        {
          "output_type": "stream",
          "name": "stdout",
          "text": [
            "--2025-05-26 16:14:00--  https://d37ci6vzurychx.cloudfront.net/trip-data/yellow_tripdata_2023-01.parquet\n",
            "Resolving d37ci6vzurychx.cloudfront.net (d37ci6vzurychx.cloudfront.net)... 3.163.157.133, 3.163.157.96, 3.163.157.72, ...\n",
            "Connecting to d37ci6vzurychx.cloudfront.net (d37ci6vzurychx.cloudfront.net)|3.163.157.133|:443... connected.\n",
            "HTTP request sent, awaiting response... 200 OK\n",
            "Length: 47673370 (45M) [application/x-www-form-urlencoded]\n",
            "Saving to: ‘yellow_tripdata_2023-01.parquet’\n",
            "\n",
            "yellow_tripdata_202 100%[===================>]  45.46M   184MB/s    in 0.2s    \n",
            "\n",
            "2025-05-26 16:14:00 (184 MB/s) - ‘yellow_tripdata_2023-01.parquet’ saved [47673370/47673370]\n",
            "\n",
            "--2025-05-26 16:14:00--  https://d37ci6vzurychx.cloudfront.net/trip-data/yellow_tripdata_2023-02.parquet\n",
            "Resolving d37ci6vzurychx.cloudfront.net (d37ci6vzurychx.cloudfront.net)... 3.163.157.133, 3.163.157.96, 3.163.157.72, ...\n",
            "Connecting to d37ci6vzurychx.cloudfront.net (d37ci6vzurychx.cloudfront.net)|3.163.157.133|:443... connected.\n",
            "HTTP request sent, awaiting response... 200 OK\n",
            "Length: 47748012 (46M) [application/x-www-form-urlencoded]\n",
            "Saving to: ‘yellow_tripdata_2023-02.parquet’\n",
            "\n",
            "yellow_tripdata_202 100%[===================>]  45.54M   175MB/s    in 0.3s    \n",
            "\n",
            "2025-05-26 16:14:01 (175 MB/s) - ‘yellow_tripdata_2023-02.parquet’ saved [47748012/47748012]\n",
            "\n",
            "--2025-05-26 16:14:01--  https://d37ci6vzurychx.cloudfront.net/trip-data/yellow_tripdata_2023-03.parquet\n",
            "Resolving d37ci6vzurychx.cloudfront.net (d37ci6vzurychx.cloudfront.net)... 3.163.157.133, 3.163.157.96, 3.163.157.72, ...\n",
            "Connecting to d37ci6vzurychx.cloudfront.net (d37ci6vzurychx.cloudfront.net)|3.163.157.133|:443... connected.\n",
            "HTTP request sent, awaiting response... 200 OK\n",
            "Length: 56127762 (54M) [binary/octet-stream]\n",
            "Saving to: ‘yellow_tripdata_2023-03.parquet’\n",
            "\n",
            "yellow_tripdata_202 100%[===================>]  53.53M   117MB/s    in 0.5s    \n",
            "\n",
            "2025-05-26 16:14:01 (117 MB/s) - ‘yellow_tripdata_2023-03.parquet’ saved [56127762/56127762]\n",
            "\n",
            "--2025-05-26 16:14:02--  https://github.com/DataTalksClub/mlops-zoomcamp/blob/main/cohorts/2025/02-experiment-tracking/homework/preprocess_data.py\n",
            "Resolving github.com (github.com)... 140.82.116.3\n",
            "Connecting to github.com (github.com)|140.82.116.3|:443... connected.\n",
            "HTTP request sent, awaiting response... 200 OK\n",
            "Length: unspecified [text/html]\n",
            "Saving to: ‘preprocess_data.py’\n",
            "\n",
            "preprocess_data.py      [ <=>                ] 186.82K  --.-KB/s    in 0.03s   \n",
            "\n",
            "2025-05-26 16:14:02 (5.97 MB/s) - ‘preprocess_data.py’ saved [191308]\n",
            "\n",
            "--2025-05-26 16:14:03--  https://github.com/DataTalksClub/mlops-zoomcamp/blob/main/cohorts/2025/02-experiment-tracking/homework/hpo.py\n",
            "Resolving github.com (github.com)... 140.82.116.4\n",
            "Connecting to github.com (github.com)|140.82.116.4|:443... connected.\n",
            "HTTP request sent, awaiting response... 200 OK\n",
            "Length: unspecified [text/html]\n",
            "Saving to: ‘hpo.py’\n",
            "\n",
            "hpo.py                  [ <=>                ] 184.05K  --.-KB/s    in 0.03s   \n",
            "\n",
            "2025-05-26 16:14:03 (6.09 MB/s) - ‘hpo.py’ saved [188466]\n",
            "\n",
            "--2025-05-26 16:14:03--  https://github.com/DataTalksClub/mlops-zoomcamp/blob/main/cohorts/2025/02-experiment-tracking/homework/register_model.py\n",
            "Resolving github.com (github.com)... 140.82.116.4\n",
            "Connecting to github.com (github.com)|140.82.116.4|:443... connected.\n",
            "HTTP request sent, awaiting response... 200 OK\n",
            "Length: unspecified [text/html]\n",
            "Saving to: ‘register_model.py’\n",
            "\n",
            "register_model.py       [ <=>                ] 186.43K  --.-KB/s    in 0.02s   \n",
            "\n",
            "2025-05-26 16:14:03 (7.95 MB/s) - ‘register_model.py’ saved [190902]\n",
            "\n",
            "--2025-05-26 16:14:03--  https://github.com/DataTalksClub/mlops-zoomcamp/blob/main/cohorts/2025/02-experiment-tracking/homework/train.py\n",
            "Resolving github.com (github.com)... 140.82.116.3\n",
            "Connecting to github.com (github.com)|140.82.116.3|:443... connected.\n",
            "HTTP request sent, awaiting response... 200 OK\n",
            "Length: unspecified [text/html]\n",
            "Saving to: ‘train.py’\n",
            "\n",
            "train.py                [ <=>                ] 180.89K  --.-KB/s    in 0.03s   \n",
            "\n",
            "2025-05-26 16:14:04 (6.13 MB/s) - ‘train.py’ saved [185236]\n",
            "\n"
          ]
        }
      ]
    },
    {
      "cell_type": "code",
      "source": [
        "!mkdir data\n",
        "!mv yellow*.parquet data"
      ],
      "metadata": {
        "id": "vmcSEaYcX07f"
      },
      "execution_count": 4,
      "outputs": []
    },
    {
      "cell_type": "code",
      "source": [
        "!python3 preprocess_data.py --raw_data_path ./data/ --dest_path ./output"
      ],
      "metadata": {
        "id": "00zVybBPYo_A"
      },
      "execution_count": 12,
      "outputs": []
    },
    {
      "cell_type": "code",
      "source": [
        "!python3 train.py"
      ],
      "metadata": {
        "colab": {
          "base_uri": "https://localhost:8080/"
        },
        "id": "rhfE8xFNY14J",
        "outputId": "01d047ce-761d-496c-fb4b-339c97b75fc0"
      },
      "execution_count": 17,
      "outputs": [
        {
          "output_type": "stream",
          "name": "stdout",
          "text": [
            "^C\n"
          ]
        }
      ]
    },
    {
      "cell_type": "code",
      "source": [
        "!mlflow db --help"
      ],
      "metadata": {
        "colab": {
          "base_uri": "https://localhost:8080/"
        },
        "id": "bl40lgQQqacO",
        "outputId": "a236e1a7-cce3-4021-9b3d-aadb4059a1b3"
      },
      "execution_count": 28,
      "outputs": [
        {
          "output_type": "stream",
          "name": "stdout",
          "text": [
            "Usage: mlflow db [OPTIONS] COMMAND [ARGS]...\n",
            "\n",
            "  Commands for managing an MLflow tracking database.\n",
            "\n",
            "Options:\n",
            "  --help  Show this message and exit.\n",
            "\n",
            "Commands:\n",
            "  upgrade  Upgrade the schema of an MLflow tracking database to the...\n"
          ]
        }
      ]
    },
    {
      "cell_type": "code",
      "source": [],
      "metadata": {
        "id": "Ss1WbQJm1ODV"
      },
      "execution_count": null,
      "outputs": []
    }
  ]
}